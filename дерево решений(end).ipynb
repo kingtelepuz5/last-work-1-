{
 "cells": [
  {
   "cell_type": "code",
   "execution_count": 1,
   "metadata": {},
   "outputs": [],
   "source": [
    "#gini =  2 * p* (1 - p)"
   ]
  },
  {
   "cell_type": "code",
   "execution_count": 2,
   "metadata": {},
   "outputs": [
    {
     "data": {
      "text/plain": [
       "0.37523809523809526"
      ]
     },
     "execution_count": 2,
     "metadata": {},
     "output_type": "execute_result"
    }
   ],
   "source": [
    "#age <=30 == 193 surv, ==328 don't surv/age >30 == 145 surv, ==217 do't surv\n",
    "#Percent of passengers who survived \n",
    "197 / (197 +328) "
   ]
  },
  {
   "cell_type": "code",
   "execution_count": 3,
   "metadata": {},
   "outputs": [
    {
     "data": {
      "text/plain": [
       "0.625"
      ]
     },
     "execution_count": 3,
     "metadata": {},
     "output_type": "execute_result"
    }
   ],
   "source": [
    "#Percent of passengers who didn’t survive  \n",
    "1 - 0.375 "
   ]
  },
  {
   "cell_type": "code",
   "execution_count": 4,
   "metadata": {},
   "outputs": [
    {
     "data": {
      "text/plain": [
       "0.46884992"
      ]
     },
     "execution_count": 4,
     "metadata": {},
     "output_type": "execute_result"
    }
   ],
   "source": [
    "#gini impurity:\n",
    "2 * 0.3752 * 0.6248 "
   ]
  },
  {
   "cell_type": "code",
   "execution_count": 5,
   "metadata": {},
   "outputs": [
    {
     "data": {
      "text/plain": [
       "0.4802203839931626"
      ]
     },
     "execution_count": 5,
     "metadata": {},
     "output_type": "execute_result"
    }
   ],
   "source": [
    "#Now let’s calculate the gini impurity for the right side, passengers with Age>30.\n",
    "2 * 145/(145+217) * 217/(145+217)"
   ]
  },
  {
   "cell_type": "code",
   "execution_count": 6,
   "metadata": {},
   "outputs": [
    {
     "data": {
      "text/plain": [
       "0.3828350034484157"
      ]
     },
     "execution_count": 6,
     "metadata": {},
     "output_type": "execute_result"
    }
   ],
   "source": [
    "#split sex female == (sur = 233, don't= 81), sex male = (sur=109,don't=464 )\n",
    "#On the left side female\n",
    "2 * 233/(233+81) * 81/(233+81) "
   ]
  },
  {
   "cell_type": "code",
   "execution_count": 7,
   "metadata": {},
   "outputs": [
    {
     "data": {
      "text/plain": [
       "0.3080812234070094"
      ]
     },
     "execution_count": 7,
     "metadata": {},
     "output_type": "execute_result"
    }
   ],
   "source": [
    "#on the rait side male \n",
    "2 * 109/(109+464) * 464/(109+464) "
   ]
  },
  {
   "cell_type": "code",
   "execution_count": 8,
   "metadata": {},
   "outputs": [
    {
     "name": "stdout",
     "output_type": "stream",
     "text": [
      "0.2 0.8 0.5 0.45454545454545453\n"
     ]
    }
   ],
   "source": [
    "a = 10 / (10 + 40)\n",
    "b = 40 / (40 + 10)\n",
    "c = 5 / (5 + 5 )\n",
    "g = 45 / (54 + 45)\n",
    "print(a,b,c,g)"
   ]
  },
  {
   "cell_type": "code",
   "execution_count": 9,
   "metadata": {},
   "outputs": [
    {
     "name": "stdout",
     "output_type": "stream",
     "text": [
      "0.8 0.19999999999999996 0.5 0.55\n"
     ]
    }
   ],
   "source": [
    "a = 1 - 0.2 \n",
    "b = 1 - 0.8 \n",
    "c = 1 - 0.5 \n",
    "g = 1 - 0.45\n",
    "print(a,b,c,g)"
   ]
  },
  {
   "cell_type": "code",
   "execution_count": 10,
   "metadata": {},
   "outputs": [
    {
     "name": "stdout",
     "output_type": "stream",
     "text": [
      "0.32000000000000006 0.30400000000000005 0.5 0.49500000000000005\n"
     ]
    }
   ],
   "source": [
    "a = 2 * 0.2 * 0.8\n",
    "b = 2 * 0.8 * 0.19 \n",
    "c = 2 * 0.5 * 0.5\n",
    "g = 2 * 0.45 * 0.55\n",
    "print(a,b,c,g)\n",
    "#gini "
   ]
  },
  {
   "cell_type": "code",
   "execution_count": 11,
   "metadata": {},
   "outputs": [
    {
     "data": {
      "text/plain": [
       "1.0"
      ]
     },
     "execution_count": 11,
     "metadata": {},
     "output_type": "execute_result"
    }
   ],
   "source": [
    "import numpy as np \n",
    "# entropy  =  -[p*log2*p + (1 - p)*log2*(1-p)]\n",
    "#on the left (Age <= 30)\n",
    "p = 197/(197+328) \n",
    "entropy = - (-p * np.log2(p) + (1 - p)*np.log2(1 - p))\n",
    "from scipy.stats import entropy \n",
    "entropy([0.375, 0.375], base=2)"
   ]
  },
  {
   "cell_type": "code",
   "execution_count": 12,
   "metadata": {},
   "outputs": [],
   "source": [
    "p = 145/(145+217)\n"
   ]
  },
  {
   "cell_type": "code",
   "execution_count": 13,
   "metadata": {},
   "outputs": [
    {
     "data": {
      "text/plain": [
       "1.0"
      ]
     },
     "execution_count": 13,
     "metadata": {},
     "output_type": "execute_result"
    }
   ],
   "source": [
    "#On the left (female):\n",
    "p = 233/(233+81) \n",
    "entropy([ 0.7420,  0.7420], base=2)"
   ]
  },
  {
   "cell_type": "code",
   "execution_count": 14,
   "metadata": {},
   "outputs": [
    {
     "data": {
      "text/plain": [
       "0.9182958340544894"
      ]
     },
     "execution_count": 14,
     "metadata": {},
     "output_type": "execute_result"
    }
   ],
   "source": [
    "#entropy 1\n",
    "from collections import Counter\n",
    "from scipy import stats\n",
    "\n",
    "labels = [ 20, 0, 40, 40]\n",
    "stats.entropy(list(Counter(labels).keys()), base=2)\n"
   ]
  },
  {
   "cell_type": "code",
   "execution_count": 15,
   "metadata": {},
   "outputs": [],
   "source": [
    "#On the left (female):\n",
    "#p = 233/(233+81) = 0.7420\n",
    "#Entropy = -(p * log(p) + (1-p) * log(1-p)) = 0.8237 \n",
    "#And on the right (male):\n",
    "#p = 109/(109+464) = 0.1902\n",
    "#Entropy =  -(p * log(p) + (1-p) * log(1-p)) = 0.7019\n"
   ]
  },
  {
   "cell_type": "code",
   "execution_count": 16,
   "metadata": {},
   "outputs": [
    {
     "data": {
      "text/plain": [
       "8.0"
      ]
     },
     "execution_count": 16,
     "metadata": {},
     "output_type": "execute_result"
    }
   ],
   "source": [
    "#entropy 2\n",
    "import collections\n",
    "import math\n",
    "def H(s):\n",
    "    probabilities = [n_x/len(s) for x,n_x in collections.Counter(s).items()]\n",
    "    e_x = [-p_x*math.log(p_x,2) for p_x in probabilities]    \n",
    "    return sum(e_x)\n",
    "H(range(0,256))"
   ]
  },
  {
   "cell_type": "code",
   "execution_count": 17,
   "metadata": {},
   "outputs": [],
   "source": [
    "#This method extends the other solutions by allowing for binning. For example, bin=None (default) won't bin x and will compute an empirical probability for each element of x, while bin=256 chunks x into 256 bins before computing the empirical probabilities.\n",
    "import numpy as np\n",
    "\n",
    "def entropy(x, bins=None):\n",
    "    N   = x.shape[0]\n",
    "    if bins is None:\n",
    "        counts = np.bincount(x)\n",
    "    else:\n",
    "        counts = np.histogram(x, bins=bins)[0] # 0th idx is counts\n",
    "    p   = counts[np.nonzero(counts)]/N # avoids log(0)\n",
    "    H   = -np.dot( p, np.log2(p) )\n",
    "    return H "
   ]
  },
  {
   "cell_type": "code",
   "execution_count": 18,
   "metadata": {},
   "outputs": [
    {
     "name": "stdout",
     "output_type": "stream",
     "text": [
      "0.47381124574049055\n"
     ]
    }
   ],
   "source": [
    "#for all nabor \n",
    "Gini = 2 * 342/887 * 545/887 \n",
    "print(Gini)"
   ]
  },
  {
   "cell_type": "code",
   "execution_count": 19,
   "metadata": {},
   "outputs": [
    {
     "name": "stdout",
     "output_type": "stream",
     "text": [
      "0.00028827508455472883\n"
     ]
    }
   ],
   "source": [
    "Information_gain = 0.4738 - 525/887 * 0.4689 - 362/887 * 0.4802 \n",
    "print(Information_gain)# это прирост информации при расщеплении по возрасту 30<= or 30> "
   ]
  },
  {
   "cell_type": "code",
   "execution_count": 20,
   "metadata": {},
   "outputs": [
    {
     "name": "stdout",
     "output_type": "stream",
     "text": [
      "0.13925603156708005\n"
     ]
    }
   ],
   "source": [
    "Information_gain = 0.4738 - 314/887 * 0.3828 - 573/887 * 0.3081 \n",
    "print(Information_gain)# это прирост гини при расщеплении по половому признаку "
   ]
  },
  {
   "cell_type": "code",
   "execution_count": 21,
   "metadata": {},
   "outputs": [],
   "source": [
    "#1. Пол (мужской | женский)\n",
    "#2. Pclass (1 или 2 | 3)\n",
    "#3. Pclass (1 | 2 или 3)\n",
    "#4. Возраст (0 |> 0)\n",
    "#5. Возраст (<= 1 |> 1)\n",
    "#6. Возраст (<= 2 |> 2)\n",
    "#7. и т. Д.…. потенциальные разбиения \n"
   ]
  },
  {
   "cell_type": "code",
   "execution_count": 22,
   "metadata": {},
   "outputs": [
    {
     "name": "stdout",
     "output_type": "stream",
     "text": [
      "[0]\n"
     ]
    }
   ],
   "source": [
    "import pandas as pd \n",
    "from sklearn.tree import DecisionTreeClassifier\n",
    "from sklearn.model_selection import train_test_split\n",
    "\n",
    "df = pd.read_csv('https://sololearn.com/uploads/files/titanic.csv')\n",
    "df['male'] = df['Sex'] == 'male'\n",
    "X = df[['Pclass', 'male', 'Age', 'Siblings/Spouses', 'Parents/Children', 'Fare']].values\n",
    "y = df['Survived'].values \n",
    "\n",
    "X_train, X_test, y_train, y_test = train_test_split(X, y, random_state = 22)\n",
    "model = DecisionTreeClassifier()\n",
    "model.fit(X_train, y_train)\n",
    "print(model.predict([[3, True, 22, 1, 0, 0.75]]))"
   ]
  },
  {
   "cell_type": "code",
   "execution_count": 23,
   "metadata": {},
   "outputs": [],
   "source": [
    "from sklearn.model_selection import KFold\n",
    "from sklearn.metrics import precision_score , recall_score, accuracy_score\n",
    "import numpy as np "
   ]
  },
  {
   "cell_type": "code",
   "execution_count": 24,
   "metadata": {},
   "outputs": [],
   "source": [
    "kf = KFold(n_splits=5, shuffle=True, random_state=10)\n",
    "dt_accuracy_score = []\n",
    "dt_precission_score = []"
   ]
  },
  {
   "cell_type": "code",
   "execution_count": 25,
   "metadata": {},
   "outputs": [
    {
     "name": "stdout",
     "output_type": "stream",
     "text": [
      "Decision Tree- gini\n",
      "accuracy: 0.7696629213483146\n",
      "precision: 0.7142857142857143\n",
      "recall: 0.6617647058823529\n",
      "accuracy: 0.7893258426966292\n",
      "precision: 0.75\n",
      "recall: 0.7025039745627981\n",
      "accuracy: 0.7578556465435154\n",
      "precision: 0.6937984496124031\n",
      "recall: 0.7134340222575517\n",
      "accuracy: 0.7647194185234558\n",
      "precision: 0.6953488372093024\n",
      "recall: 0.7044303554028412\n",
      "accuracy: 0.7631879641972957\n",
      "precision: 0.6954095045500506\n",
      "recall: 0.70068714146513\n",
      "Decision Tree- entropy\n",
      "accuracy: 0.7696629213483146\n",
      "precision: 0.7777777777777778\n",
      "recall: 0.6447368421052632\n",
      "accuracy: 0.797752808988764\n",
      "precision: 0.797979797979798\n",
      "recall: 0.6922314347512617\n",
      "accuracy: 0.7672401024143549\n",
      "precision: 0.7211757211757212\n",
      "recall: 0.6872940747804109\n",
      "accuracy: 0.7604583253983368\n",
      "precision: 0.713958713958714\n",
      "recall: 0.6931021350326767\n",
      "accuracy: 0.7609090332000253\n",
      "precision: 0.693200869472056\n",
      "recall: 0.6853907989352322\n"
     ]
    }
   ],
   "source": [
    "kf = KFold(n_splits=5, shuffle=True)\n",
    "for criterion in ['gini','entropy']:\n",
    "    print(\"Decision Tree- {}\".format(criterion))\n",
    "    accuracy = []\n",
    "    precision = []\n",
    "    recall = []\n",
    "    for train_index, test_index in kf.split(X):\n",
    "        X_train, X_test = X[train_index],X[test_index]\n",
    "        y_train, y_test = y[train_index],y[test_index]\n",
    "        dt = DecisionTreeClassifier(criterion=criterion)\n",
    "        dt.fit(X_train, y_train)\n",
    "        y_pred = dt.predict(X_test)\n",
    "        accuracy.append(accuracy_score(y_test, y_pred))\n",
    "        precision.append(precision_score(y_test, y_pred))\n",
    "        recall.append(recall_score(y_test, y_pred))\n",
    "        print(\"accuracy:\", np.mean(accuracy))\n",
    "        print(\"precision:\", np.mean(precision))\n",
    "        print(\"recall:\", np.mean(recall))"
   ]
  },
  {
   "cell_type": "code",
   "execution_count": 26,
   "metadata": {},
   "outputs": [],
   "source": [
    "from sklearn.tree import export_graphviz\n",
    "import graphviz \n",
    "from IPython.display import Image"
   ]
  },
  {
   "cell_type": "code",
   "execution_count": 27,
   "metadata": {},
   "outputs": [
    {
     "data": {
      "text/plain": [
       "'tree.png'"
      ]
     },
     "execution_count": 27,
     "metadata": {},
     "output_type": "execute_result"
    }
   ],
   "source": [
    "feature_names = ['Pclass', 'male']\n",
    "X = df[feature_names].values\n",
    "y = df['Survived'].values\n",
    "\n",
    "dt = DecisionTreeClassifier()\n",
    "dt.fit(X,y)\n",
    "\n",
    "dot_file = export_graphviz(dt, feature_names = feature_names)\n",
    "graph = graphviz.Source(dot_file)\n",
    "graph.render(filename ='tree', format='png',cleanup=True)\n",
    "#import os\n",
    "#print(os.getcwd()) search directory "
   ]
  },
  {
   "cell_type": "code",
   "execution_count": 28,
   "metadata": {},
   "outputs": [],
   "source": [
    "dt = DecisionTreeClassifier(max_depth = 3, min_samples_leaf =2, max_leaf_nodes =10)"
   ]
  },
  {
   "cell_type": "code",
   "execution_count": 30,
   "metadata": {},
   "outputs": [],
   "source": [
    "from sklearn.model_selection import GridSearchCV "
   ]
  },
  {
   "cell_type": "code",
   "execution_count": 33,
   "metadata": {},
   "outputs": [],
   "source": [
    "param_grid = {\n",
    "    'max_depth':[5, 15, 25],\n",
    "    'min_samples_leaf':[1,3],\n",
    "    'max_leaf_nodes':[10,20,35,50]}\n"
   ]
  },
  {
   "cell_type": "code",
   "execution_count": 34,
   "metadata": {},
   "outputs": [
    {
     "data": {
      "text/plain": [
       "GridSearchCV(cv=5, error_score=nan,\n",
       "             estimator=DecisionTreeClassifier(ccp_alpha=0.0, class_weight=None,\n",
       "                                              criterion='gini', max_depth=None,\n",
       "                                              max_features=None,\n",
       "                                              max_leaf_nodes=None,\n",
       "                                              min_impurity_decrease=0.0,\n",
       "                                              min_impurity_split=None,\n",
       "                                              min_samples_leaf=1,\n",
       "                                              min_samples_split=2,\n",
       "                                              min_weight_fraction_leaf=0.0,\n",
       "                                              presort='deprecated',\n",
       "                                              random_state=None,\n",
       "                                              splitter='best'),\n",
       "             iid='deprecated', n_jobs=None,\n",
       "             param_grid={'max_depth': [5, 15, 25],\n",
       "                         'max_leaf_nodes': [10, 20, 35, 50],\n",
       "                         'min_samples_leaf': [1, 3]},\n",
       "             pre_dispatch='2*n_jobs', refit=True, return_train_score=False,\n",
       "             scoring='f1', verbose=0)"
      ]
     },
     "execution_count": 34,
     "metadata": {},
     "output_type": "execute_result"
    }
   ],
   "source": [
    "dt = DecisionTreeClassifier()\n",
    "gs = GridSearchCV(dt, param_grid, scoring ='f1', cv = 5)\n",
    "gs.fit(X,y)"
   ]
  },
  {
   "cell_type": "code",
   "execution_count": 39,
   "metadata": {},
   "outputs": [
    {
     "name": "stdout",
     "output_type": "stream",
     "text": [
      "best params: {'max_depth': 5, 'max_leaf_nodes': 10, 'min_samples_leaf': 1}\n"
     ]
    }
   ],
   "source": [
    "print(\"best params:\", gs.best_params_)"
   ]
  },
  {
   "cell_type": "code",
   "execution_count": 40,
   "metadata": {},
   "outputs": [
    {
     "name": "stdout",
     "output_type": "stream",
     "text": [
      "best score: 0.6506779917168288\n"
     ]
    }
   ],
   "source": [
    "print(\"best score:\", gs.best_score_)"
   ]
  },
  {
   "cell_type": "code",
   "execution_count": null,
   "metadata": {},
   "outputs": [],
   "source": []
  },
  {
   "cell_type": "code",
   "execution_count": null,
   "metadata": {},
   "outputs": [],
   "source": []
  }
 ],
 "metadata": {
  "kernelspec": {
   "display_name": "Python 3",
   "language": "python",
   "name": "python3"
  },
  "language_info": {
   "codemirror_mode": {
    "name": "ipython",
    "version": 3
   },
   "file_extension": ".py",
   "mimetype": "text/x-python",
   "name": "python",
   "nbconvert_exporter": "python",
   "pygments_lexer": "ipython3",
   "version": "3.7.6"
  }
 },
 "nbformat": 4,
 "nbformat_minor": 4
}
